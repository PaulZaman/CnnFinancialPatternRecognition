{
 "cells": [
  {
   "cell_type": "markdown",
   "metadata": {},
   "source": [
    "This file creates a dataset of PNG images and saves them to the specified output directory."
   ]
  },
  {
   "cell_type": "code",
   "execution_count": 22,
   "metadata": {},
   "outputs": [],
   "source": [
    "output_dir = \"data2/unzipped\"\n",
    "output_zip_dir = \"data2/zips\"\n",
    "total_per_pattern = 2000"
   ]
  },
  {
   "cell_type": "code",
   "execution_count": null,
   "metadata": {
    "executionInfo": {
     "elapsed": 217,
     "status": "ok",
     "timestamp": 1753307445095,
     "user": {
      "displayName": "Paul Zamanian",
      "userId": "04710954294718831405"
     },
     "user_tz": -120
    },
    "id": "FwbCWophCIIj"
   },
   "outputs": [],
   "source": [
    "import os\n",
    "import random\n",
    "from multiprocessing import cpu_count\n",
    "from multiprocessing.dummy import Pool \n",
    "from PIL import ImageDraw, Image\n",
    "from tqdm import tqdm\n",
    "\n",
    "\n",
    "def gen_coherent_candle(prev_close, max_dev):\n",
    "    open_p = prev_close + random.uniform(-max_dev, max_dev)\n",
    "    body = random.uniform(0.5, 2.0)\n",
    "    close_p = open_p + random.choice([-1, 1]) * body\n",
    "    high = max(open_p, close_p) + random.uniform(0.2, 0.7)\n",
    "    low  = min(open_p, close_p) - random.uniform(0.2, 0.7)\n",
    "    return (open_p, close_p, high, low), close_p\n",
    "\n",
    "def gen_pattern_values(pattern_name, base):\n",
    "    step = random.uniform(1.0, 2.0)\n",
    "    candles = []\n",
    "    if pattern_name == \"bullish_spinning_top\":\n",
    "        o = base\n",
    "        c = o + random.uniform(0.2, 0.6)\n",
    "        h = c + random.uniform(0.6, 1.0)\n",
    "        l = o - random.uniform(0.6, 1.0)\n",
    "        candles = [(o, c, h, l)]\n",
    "\n",
    "    elif pattern_name == \"bearish_spinning_top\":\n",
    "        o = base\n",
    "        c = o - random.uniform(0.2, 0.6)\n",
    "        h = o + random.uniform(0.6, 1.0)\n",
    "        l = c - random.uniform(0.6, 1.0)\n",
    "        candles = [(o, c, h, l)]\n",
    "\n",
    "    elif pattern_name == \"three_white_soldiers\":\n",
    "        for i in range(3):\n",
    "            o = base + i * step\n",
    "            c = o + random.uniform(0.8 * step, 1.2 * step)\n",
    "            h = c + 0.5\n",
    "            l = o - 0.5\n",
    "            candles.append((o, c, h, l))\n",
    "\n",
    "    elif pattern_name == \"three_black_crows\":\n",
    "        for i in range(3):\n",
    "            o = base - i * step\n",
    "            c = o - random.uniform(0.8 * step, 1.2 * step)\n",
    "            h = o + 0.5\n",
    "            l = c - 0.5\n",
    "            candles.append((o, c, h, l))\n",
    "\n",
    "    elif pattern_name == \"rising_three\":\n",
    "        c1  = (base, base+step, base+step+0.5, base-0.5)\n",
    "        m1  = (c1[1], c1[1]-0.4, c1[1]+0.3, c1[1]-0.7)\n",
    "        m2  = (m1[1], m1[1]-0.3, m1[1]+0.3, m1[1]-0.7)\n",
    "        m3  = (m2[1], m2[1]-0.3, m2[1]+0.3, m2[1]-0.7)\n",
    "        c5  = (m3[1], c1[1]+step, c1[1]+step+0.5, m3[1]-0.5)\n",
    "        candles = [c1, m1, m2, m3, c5]\n",
    "\n",
    "    elif pattern_name == \"falling_three\":\n",
    "        c1  = (base, base-step, base+0.5, base-step-0.5)\n",
    "        m1  = (c1[1], c1[1]+0.4, c1[1]+0.7, c1[1]-0.3)\n",
    "        m2  = (m1[1], m1[1]+0.3, m1[1]+0.6, m1[1]-0.3)\n",
    "        m3  = (m2[1], m2[1]+0.3, m2[1]+0.6, m2[1]-0.3)\n",
    "        c5  = (m3[1], c1[1]-step, m3[1]+0.5, c1[1]-step-0.5)\n",
    "        candles = [c1, m1, m2, m3, c5]\n",
    "\n",
    "    elif pattern_name == \"piercing_line\":\n",
    "        black = (base, base-step, base+0.5, base-step-0.5)\n",
    "        white = (base-step-0.2, base-step/2, base-step/2+0.5, base-step-0.7)\n",
    "        candles = [black, white]\n",
    "\n",
    "    elif pattern_name == \"dark_cloud_cover\":\n",
    "        white = (base, base+step, base+step+0.5, base-0.5)\n",
    "        black = (base+step+0.2, base+step/2, base+step+0.8, base+step/2-0.6)\n",
    "        candles = [white, black]\n",
    "\n",
    "    elif pattern_name == \"random_pattern\":\n",
    "        num_candles = random.randint(1, 5)\n",
    "        current = base\n",
    "        for _ in range(num_candles):\n",
    "            cdl, current = gen_coherent_candle(current, max_dev=5)\n",
    "            candles.append(cdl)\n",
    "\n",
    "    return candles\n",
    "\n",
    "def build_sequence_with_pattern(pattern_name, insert_at):\n",
    "    max_dev = random.uniform(0.5, 2.0)\n",
    "    current_close = random.uniform(90, 110)\n",
    "    seq = []\n",
    "\n",
    "    for _ in range(insert_at):\n",
    "        candle, current_close = gen_coherent_candle(current_close, max_dev)\n",
    "        seq.append(candle)\n",
    "\n",
    "    base_noise = current_close + random.uniform(-0.1, 0.1)\n",
    "    pat = gen_pattern_values(pattern_name, base_noise)\n",
    "    for o, c, h, l in pat:\n",
    "        seq.append((o, c, h, l))\n",
    "        current_close = c\n",
    "\n",
    "    # On décide si on impose la direction (80%) ou on laisse aléatoire (20%)\n",
    "    is_bullish_pattern = (\n",
    "        pattern_name.startswith(\"bullish\") or\n",
    "        pattern_name in [\"three_white_soldiers\", \"rising_three\", \"piercing_line\"]\n",
    "    )\n",
    "    if random.random() < 0.8:\n",
    "        # on force up si bullish, down si bearish\n",
    "        body = random.uniform(0.5, 2.0)\n",
    "        open_p = current_close + random.uniform(-max_dev, max_dev)\n",
    "        close_p = open_p + (body if is_bullish_pattern else -body)\n",
    "        high = max(open_p, close_p) + random.uniform(0.2, 0.7)\n",
    "        low  = min(open_p, close_p) - random.uniform(0.2, 0.7)\n",
    "        candle = (open_p, close_p, high, low)\n",
    "    else:\n",
    "        candle, current_close = gen_coherent_candle(current_close, max_dev)\n",
    "    # on met à jour seq et current_close\n",
    "    seq.append(candle)\n",
    "    current_close = candle[1]\n",
    "\n",
    "    while len(seq) < 10:\n",
    "        candle, current_close = gen_coherent_candle(current_close, max_dev)\n",
    "        seq.append(candle)\n",
    "\n",
    "    return seq\n",
    "\n",
    "def save_sequence_image(candles, filepath, size=64):\n",
    "    img = Image.new(\"L\", (size, size), color=255)  # Grayscale canvas, white background\n",
    "    draw = ImageDraw.Draw(img)\n",
    "\n",
    "    n = len(candles)\n",
    "    spacing = size / (n + 1)\n",
    "    candle_width = spacing * 0.5\n",
    "\n",
    "    # Compute Y scale\n",
    "    lows = [l for (_, _, _, l) in candles]\n",
    "    highs = [h for (_, _, h, _) in candles]\n",
    "    y_min, y_max = min(lows), max(highs)\n",
    "    y_range = y_max - y_min or 1e-6  # avoid division by zero\n",
    "\n",
    "    def to_y(val):\n",
    "        return size - int((val - y_min) / y_range * (size - 4)) - 2  # keep small margin\n",
    "\n",
    "    for i, (o, c, h, l) in enumerate(candles):\n",
    "        x_center = int((i + 1) * spacing)\n",
    "        x0 = int(x_center - candle_width / 2)\n",
    "        x1 = int(x_center + candle_width / 2)\n",
    "\n",
    "        # Wick\n",
    "        y_high = to_y(h)\n",
    "        y_low = to_y(l)\n",
    "        draw.line((x_center, y_high, x_center, y_low), fill=0, width=1)  # black wick\n",
    "\n",
    "        # Body\n",
    "        y_open = to_y(o)\n",
    "        y_close = to_y(c)\n",
    "        top = min(y_open, y_close)\n",
    "        bottom = max(y_open, y_close)\n",
    "        fill = 255 if c > o else 0  # white for bullish, black for bearish\n",
    "        draw.rectangle((x0, top, x1, bottom), fill=fill, outline=0)\n",
    "\n",
    "    img.save(filepath)\n",
    "\n",
    "def generate_single_image(args):\n",
    "    seq = []\n",
    "    while len(seq) < 10 or len(seq) > 11:\n",
    "        # make sure the seq is a list of 10 candles\n",
    "        pattern, i, output_root = args\n",
    "        pattern_dir = os.path.join(output_root, pattern)\n",
    "        pat_len = len(gen_pattern_values(pattern, 100))\n",
    "        insert_at = random.randint(0, 10 - pat_len)\n",
    "        seq = build_sequence_with_pattern(pattern, insert_at)\n",
    "        filename = f\"{pattern}_{i:05d}.png\"\n",
    "        if len(seq) < 10 or len(seq) > 11:\n",
    "            pass\n",
    "            #print(\"file:\", filename, \"has wrong length:\", len(seq))\n",
    "    save_sequence_image(seq, os.path.join(pattern_dir, filename))\n",
    "\n",
    "def generate_dataset(output_root=\"data\", total_per_pattern=1000):\n",
    "    patterns = [\n",
    "        \"bullish_spinning_top\",\n",
    "        \"bearish_spinning_top\",\n",
    "        \"three_white_soldiers\",\n",
    "        \"three_black_crows\",\n",
    "        \"rising_three\",\n",
    "        \"falling_three\",\n",
    "        \"piercing_line\",\n",
    "        \"dark_cloud_cover\",\n",
    "        \"random_pattern\"\n",
    "    ]\n",
    "\n",
    "    os.makedirs(output_root, exist_ok=True)\n",
    "\n",
    "    for pattern in patterns:\n",
    "        pattern_dir = os.path.join(output_root, pattern)\n",
    "        os.makedirs(pattern_dir, exist_ok=True)\n",
    "\n",
    "        args_list = [(pattern, i, output_root) for i in range(total_per_pattern)]\n",
    "\n",
    "        with Pool(cpu_count()) as pool:\n",
    "            list(tqdm(pool.imap_unordered(generate_single_image, args_list), total=total_per_pattern, desc=f\"Gen {pattern}\"))\n"
   ]
  },
  {
   "cell_type": "code",
   "execution_count": 24,
   "metadata": {
    "colab": {
     "base_uri": "https://localhost:8080/"
    },
    "executionInfo": {
     "elapsed": 816943,
     "status": "ok",
     "timestamp": 1753308262035,
     "user": {
      "displayName": "Paul Zamanian",
      "userId": "04710954294718831405"
     },
     "user_tz": -120
    },
    "id": "yaUrCTn3CMt7",
    "outputId": "871a824d-3e20-49df-eead-829bbb2a36a2"
   },
   "outputs": [
    {
     "name": "stderr",
     "output_type": "stream",
     "text": [
      "Gen bullish_spinning_top:   8%|▊         | 162/2000 [00:00<00:01, 1600.81it/s]"
     ]
    },
    {
     "name": "stderr",
     "output_type": "stream",
     "text": [
      "Gen bullish_spinning_top: 100%|██████████| 2000/2000 [00:01<00:00, 1329.47it/s]\n",
      "Gen bearish_spinning_top: 100%|██████████| 2000/2000 [00:01<00:00, 1353.95it/s]\n",
      "Gen three_white_soldiers: 100%|██████████| 2000/2000 [00:01<00:00, 1333.82it/s]\n",
      "Gen three_black_crows: 100%|██████████| 2000/2000 [00:01<00:00, 1458.34it/s]\n",
      "Gen rising_three: 100%|██████████| 2000/2000 [00:01<00:00, 1482.09it/s]\n",
      "Gen falling_three: 100%|██████████| 2000/2000 [00:01<00:00, 1442.17it/s]\n",
      "Gen piercing_line: 100%|██████████| 2000/2000 [00:01<00:00, 1500.22it/s]\n",
      "Gen dark_cloud_cover: 100%|██████████| 2000/2000 [00:01<00:00, 1528.71it/s]\n",
      "Gen random_pattern: 100%|██████████| 2000/2000 [00:01<00:00, 1349.93it/s]\n"
     ]
    }
   ],
   "source": [
    "generate_dataset(output_root=output_dir, total_per_pattern=total_per_pattern)"
   ]
  },
  {
   "cell_type": "code",
   "execution_count": 27,
   "metadata": {
    "executionInfo": {
     "elapsed": 43,
     "status": "ok",
     "timestamp": 1753308293417,
     "user": {
      "displayName": "Paul Zamanian",
      "userId": "04710954294718831405"
     },
     "user_tz": -120
    },
    "id": "Ln4ndAA1C4P9"
   },
   "outputs": [],
   "source": [
    "import os\n",
    "import shutil\n",
    "import zipfile\n",
    "\n",
    "def zip_each_pattern(source=\"data/unzipped\", destination=\"data/zips\"):\n",
    "    \"\"\"\n",
    "    Zips each subfolder (pattern) inside the source directory\n",
    "\n",
    "    Parameters:\n",
    "        source (str): The parent folder containing one subfolder per pattern\n",
    "    \"\"\"\n",
    "    # If destination folder does not exist, create it\n",
    "    if not os.path.exists(destination):\n",
    "        os.makedirs(destination)\n",
    "    # List all pattern subfolders\n",
    "    for pattern_name in os.listdir(source):\n",
    "        pattern_path = os.path.join(source, pattern_name)\n",
    "        if not os.path.isdir(pattern_path):\n",
    "            continue  # Skip files\n",
    "\n",
    "        zip_filename = f\"{pattern_name}.zip\"\n",
    "        zip_path = os.path.join(destination, zip_filename)\n",
    "\n",
    "        # Zip the current folder\n",
    "        with zipfile.ZipFile(zip_path, 'w', zipfile.ZIP_DEFLATED) as zipf:\n",
    "            for root, _, files in os.walk(pattern_path):\n",
    "                for file in files:\n",
    "                    file_path = os.path.join(root, file)\n",
    "                    arcname = os.path.relpath(file_path, start=pattern_path)\n",
    "                    zipf.write(file_path, arcname)\n",
    "\n",
    "        print(f\"🗜️ Zipped {pattern_name} → {zip_path}\")\n"
   ]
  },
  {
   "cell_type": "code",
   "execution_count": 28,
   "metadata": {
    "colab": {
     "base_uri": "https://localhost:8080/"
    },
    "executionInfo": {
     "elapsed": 15076,
     "status": "ok",
     "timestamp": 1753308277162,
     "user": {
      "displayName": "Paul Zamanian",
      "userId": "04710954294718831405"
     },
     "user_tz": -120
    },
    "id": "PBXYve0uDiQO",
    "outputId": "908a2c94-637a-449e-c390-da4ed725d6fa"
   },
   "outputs": [
    {
     "name": "stdout",
     "output_type": "stream",
     "text": [
      "🗜️ Zipped falling_three → data2/zips/falling_three.zip\n",
      "🗜️ Zipped bullish_spinning_top → data2/zips/bullish_spinning_top.zip\n",
      "🗜️ Zipped rising_three → data2/zips/rising_three.zip\n",
      "🗜️ Zipped piercing_line → data2/zips/piercing_line.zip\n",
      "🗜️ Zipped three_white_soldiers → data2/zips/three_white_soldiers.zip\n",
      "🗜️ Zipped dark_cloud_cover → data2/zips/dark_cloud_cover.zip\n",
      "🗜️ Zipped random_pattern → data2/zips/random_pattern.zip\n",
      "🗜️ Zipped bearish_spinning_top → data2/zips/bearish_spinning_top.zip\n",
      "🗜️ Zipped three_black_crows → data2/zips/three_black_crows.zip\n"
     ]
    }
   ],
   "source": [
    "zip_each_pattern(source=output_dir, destination=output_zip_dir)"
   ]
  }
 ],
 "metadata": {
  "colab": {
   "authorship_tag": "ABX9TyMb22TUV+bTbcCx7gXLso4M",
   "provenance": []
  },
  "kernelspec": {
   "display_name": "Python 3",
   "name": "python3"
  },
  "language_info": {
   "codemirror_mode": {
    "name": "ipython",
    "version": 3
   },
   "file_extension": ".py",
   "mimetype": "text/x-python",
   "name": "python",
   "nbconvert_exporter": "python",
   "pygments_lexer": "ipython3",
   "version": "3.12.0"
  }
 },
 "nbformat": 4,
 "nbformat_minor": 0
}
